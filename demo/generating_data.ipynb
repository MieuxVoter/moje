{
 "cells": [
  {
   "cell_type": "markdown",
   "metadata": {
    "hideCode": false,
    "hidePrompt": false
   },
   "source": [
    "# Generating data\n",
    "\n",
    "This notebook is used to generate data inside the web application.\n",
    "\n",
    "Watch out: it immediately saves data on the database!\n",
    "\n",
    "Setting-up: https://stackoverflow.com/questions/35483328/how-to-setup-jupyter-ipython-notebook-for-django"
   ]
  },
  {
   "cell_type": "code",
   "execution_count": 2,
   "metadata": {
    "hideCode": false,
    "hidePrompt": false
   },
   "outputs": [],
   "source": [
    "import os\n",
    "import sys\n",
    "sys.path.append('../')\n",
    "import django\n",
    "os.environ.setdefault(\"DJANGO_SETTINGS_MODULE\", \"jmapp.settings\")\n",
    "django.setup()\n",
    "from vote.models import *\n",
    "from django.utils import timezone\n",
    "from datetime import timedelta\n",
    "from random import randint\n",
    "import numpy as np\n",
    "from math import ceil \n",
    "\n",
    "gs = Grade.objects.all()\n",
    "vs = Voter.objects.all()\n",
    "cs = Candidate.objects.all()"
   ]
  },
  {
   "cell_type": "markdown",
   "metadata": {
    "hideCode": false,
    "hidePrompt": false
   },
   "source": [
    "## 1. Create basic grades"
   ]
  },
  {
   "cell_type": "code",
   "execution_count": 2,
   "metadata": {
    "hideCode": false,
    "hidePrompt": false
   },
   "outputs": [],
   "source": [
    "grades = [(\"Très bien\", \"tb\"),\n",
    "             (\"Bien\", \"b\"),\n",
    "             (\"Assez bien\", \"ab\"),\n",
    "             (\"Correct\", \"ok\"),\n",
    "             (\"Insuffisant\", \"insuf\"),\n",
    "            ]\n",
    "\n",
    "for n, c in grades:\n",
    "    Grade(name=n, code=c).save()"
   ]
  },
  {
   "cell_type": "markdown",
   "metadata": {},
   "source": [
    "## 2. Create fake candidates\n",
    "It uses a python API to randomuser.me :\n",
    "https://github.com/null-none/random-user-generation"
   ]
  },
  {
   "cell_type": "code",
   "execution_count": 11,
   "metadata": {},
   "outputs": [
    {
     "name": "stdout",
     "output_type": "stream",
     "text": [
      "Candidate created: bigkoala687, lord\n",
      "Candidate created: beautifulleopard534, beerman\n",
      "Candidate created: redleopard501, hound\n",
      "Candidate created: crazykoala514, billyboy\n",
      "Candidate created: lazygoose768, midget\n"
     ]
    }
   ],
   "source": [
    "from examples.generation import RandomUserGeneration\n",
    "from django.contrib.auth.hashers import make_password\n",
    "from datetime import date, datetime\n",
    "\n",
    "from vote.models import Candidate, User\n",
    "\n",
    "Ncandidates = 5\n",
    "\n",
    "for i in range(Ncandidates - len(cs)):\n",
    "    # create user and fake user\n",
    "    user = User()\n",
    "    ruser = RandomUserGeneration()\n",
    "    \n",
    "    user.email     = ruser.get_mail()\n",
    "    user.first_name  = ruser.get_first_name()\n",
    "    user.last_name   = ruser.get_last_name()\n",
    "    user.username    = ruser.data['results'][0]['login']['username']\n",
    "    user.password    = make_password(ruser.data['results'][0]['login']['password'])\n",
    "\n",
    "    user.save()\n",
    "    \n",
    "    # create candidate\n",
    "    c     = Candidate()\n",
    "    c.user = user\n",
    "    c.picture     = ruser.get_picture()\n",
    "    c.bio         = \"Causis im si mo an talium juvare cumque tandem. Hinc quia inde rei mihi nec quum ibi.\"\n",
    "    c.city        = ruser.data['results'][0]['location']['city']\n",
    "    c.street      = ruser.data['results'][0]['location']['street']\n",
    "    c.state       = ruser.data['results'][0]['location']['state']\n",
    "    c.postcode    = ruser.data['results'][0]['location']['postcode']\n",
    "    dob           = datetime.strptime(ruser.data['results'][0]['dob'], '%Y-%m-%d %H:%M:%S')\n",
    "    c.birth_date  = dob.strftime('%Y-%m-%d')\n",
    "\n",
    "    c.save()\n",
    "    \n",
    "    print(\"Candidate created: %s, %s\" % (user.username, ruser.data['results'][0]['login']['password']))"
   ]
  },
  {
   "cell_type": "markdown",
   "metadata": {},
   "source": [
    "# 3. Create fake voters"
   ]
  },
  {
   "cell_type": "code",
   "execution_count": 9,
   "metadata": {},
   "outputs": [
    {
     "name": "stdout",
     "output_type": "stream",
     "text": [
      "Voter created: goldensnake787, 3030\n",
      "Voter created: whiteduck245, forum\n",
      "Voter created: bluelion904, mercury1\n",
      "Voter created: brownsnake636, hardy\n",
      "Voter created: beautifulfish981, stupid1\n",
      "Voter created: heavyswan409, london1\n",
      "Voter created: crazyrabbit804, django\n",
      "Voter created: brownswan800, hornet\n",
      "Voter created: redrabbit534, wwwwwwww\n",
      "Voter created: bigostrich140, hermes\n",
      "Voter created: silvergorilla774, taco\n",
      "Voter created: brownkoala300, carrie\n",
      "Voter created: goldenrabbit294, cynthia\n",
      "Voter created: orangepanda313, comet\n",
      "Voter created: orangefish799, burner\n",
      "Voter created: whitebird631, jockey\n",
      "Voter created: redostrich766, virgil\n",
      "Voter created: greencat873, seymour\n",
      "Voter created: silverleopard576, panther1\n",
      "Voter created: redwolf890, sawyer\n",
      "Voter created: ticklishsnake701, case\n",
      "Voter created: redpeacock107, sealteam\n",
      "Voter created: yellowpeacock565, football1\n",
      "Voter created: crazytiger543, nnnnnnnn\n",
      "Voter created: greenswan823, chicken\n",
      "Voter created: beautifulostrich336, wrangler\n",
      "Voter created: silverfrog541, jack1\n",
      "Voter created: purpleladybug628, jenjen\n",
      "Voter created: crazykoala724, regina\n",
      "Voter created: biggoose829, moomoo\n",
      "Voter created: blackfrog450, asdfghjkl\n",
      "Voter created: biggorilla344, 12qwaszx\n",
      "Voter created: blackwolf217, 654321\n",
      "Voter created: ticklishcat336, keller\n",
      "Voter created: silvermouse876, yellow1\n",
      "Voter created: orangeladybug922, sullivan\n",
      "Voter created: greencat564, speedo\n",
      "Voter created: whiterabbit269, cheshire\n",
      "Voter created: whitepanda616, auburn\n",
      "Voter created: smallbutterfly748, tipper\n",
      "Voter created: crazygoose434, buffett\n",
      "Voter created: whitelion820, holmes\n",
      "Voter created: greenduck542, bishop\n",
      "Voter created: lazyswan797, mantle\n",
      "Voter created: heavydog688, frodo1\n",
      "Voter created: yellowswan505, scout\n",
      "Voter created: goldenrabbit434, peaches1\n",
      "Voter created: yellowbird350, nang\n",
      "Voter created: crazybird519, 1235\n",
      "Voter created: yellowdog325, steffi\n",
      "Voter created: yellowfrog606, getmoney\n",
      "Voter created: bluebird571, newbie\n",
      "Voter created: beautifulelephant162, manning\n",
      "Voter created: yellowleopard808, 151nxjmt\n",
      "Voter created: silverladybug455, gotohell\n",
      "Voter created: heavykoala132, a1b2c3d4\n",
      "Voter created: silverladybug493, hardware\n",
      "Voter created: goldenbear749, bruno\n",
      "Voter created: heavycat960, select\n",
      "Voter created: brownpeacock595, dusty1\n",
      "Voter created: bluepanda139, alley\n",
      "Voter created: greentiger292, gotmilk\n",
      "Voter created: blackleopard167, wrangler\n",
      "Voter created: greenduck311, kathleen\n",
      "Voter created: greenrabbit538, cavalier\n",
      "Voter created: brownfrog713, selena\n",
      "Voter created: orangegorilla252, tongue\n",
      "Voter created: tinyfish641, entrance\n",
      "Voter created: beautifulpanda491, oooooooo\n",
      "Voter created: blackmeercat690, doogie\n",
      "Voter created: biglion859, peachy\n",
      "Voter created: organiccat290, babygirl\n",
      "Voter created: heavysnake620, jian\n",
      "Voter created: whitebird851, monica\n",
      "Voter created: blackostrich190, romeo1\n",
      "Voter created: smallcat235, qwerty1\n",
      "Voter created: goldenkoala719, chipper\n",
      "Voter created: tinyfrog338, nintendo\n",
      "Voter created: orangeostrich989, 2345\n",
      "Voter created: silverkoala416, duan\n",
      "Voter created: organicostrich972, warlock\n",
      "Voter created: heavylion958, boss\n",
      "Voter created: lazypeacock142, beaker\n",
      "Voter created: purplepeacock302, rasta\n",
      "Voter created: bluemouse775, lorraine\n",
      "Voter created: organicpeacock398, shuo\n",
      "Voter created: beautifulmeercat346, cyclops\n",
      "Voter created: redfish676, 11112222\n",
      "Voter created: smallmouse670, salesman\n",
      "Voter created: yellowkoala668, nipper\n",
      "Voter created: smalllion728, zaq123\n",
      "Voter created: ticklishwolf349, ashton\n",
      "Voter created: lazypeacock473, 11223344\n",
      "Voter created: greencat917, calimero\n",
      "Voter created: heavyfrog961, henry\n",
      "Voter created: bigsnake101, paradise\n",
      "Voter created: brownpeacock467, hedgehog\n",
      "Voter created: greenpanda597, palmtree\n",
      "Voter created: organicostrich370, packers1\n",
      "Voter created: orangemeercat366, college\n"
     ]
    }
   ],
   "source": [
    "from examples.generation import RandomUserGeneration\n",
    "from django.contrib.auth.hashers import make_password\n",
    "from datetime import date, datetime\n",
    "\n",
    "from vote.models import Candidate, User\n",
    "\n",
    "Nvoters = 100\n",
    "\n",
    "for i in range(Nvoters - len(vs)):\n",
    "    # create user and fake user\n",
    "    user = User()\n",
    "    ruser = RandomUserGeneration()\n",
    "    \n",
    "    user.email       = ruser.get_mail()\n",
    "    user.first_name  = ruser.get_first_name()\n",
    "    user.last_name   = ruser.get_last_name()\n",
    "    user.username    = ruser.data['results'][0]['login']['username']\n",
    "    user.password    = make_password(ruser.data['results'][0]['login']['password'])\n",
    "\n",
    "    user.save()\n",
    "    \n",
    "    # create candidate\n",
    "    v             = Voter()\n",
    "    v.user        = user\n",
    "    v.picture     = ruser.get_picture()\n",
    "    v.bio         = \"Causis im si mo an talium juvare cumque tandem. Hinc quia inde rei mihi nec quum ibi.\"\n",
    "    v.city        = ruser.data['results'][0]['location']['city']\n",
    "    v.street      = ruser.data['results'][0]['location']['street']\n",
    "    v.state       = ruser.data['results'][0]['location']['state']\n",
    "    v.postcode    = ruser.data['results'][0]['location']['postcode']\n",
    "    dob           = datetime.strptime(ruser.data['results'][0]['dob'], '%Y-%m-%d %H:%M:%S')\n",
    "    v.birth_date  = dob.strftime('%Y-%m-%d')\n",
    "\n",
    "    v.save()\n",
    "    \n",
    "    print(\"Voter created: %s, %s\" % (user.username, ruser.data['results'][0]['login']['password']))"
   ]
  },
  {
   "cell_type": "markdown",
   "metadata": {},
   "source": [
    "## 4. Create fake votes"
   ]
  },
  {
   "cell_type": "code",
   "execution_count": 5,
   "metadata": {},
   "outputs": [],
   "source": [
    "import itertools\n",
    "\n",
    "for v, c in itertools.product(vs, cs):\n",
    "    g = Grade.objects.order_by('?').first()\n",
    "    Rating(voter=v, candidate=c, grade=g).save()"
   ]
  }
 ],
 "metadata": {
  "hide_code_all_hidden": false,
  "kernelspec": {
   "display_name": "Django Shell-Plus",
   "language": "python",
   "name": "django_extensions"
  },
  "language_info": {
   "codemirror_mode": {
    "name": "ipython",
    "version": 3
   },
   "file_extension": ".py",
   "mimetype": "text/x-python",
   "name": "python",
   "nbconvert_exporter": "python",
   "pygments_lexer": "ipython3",
   "version": "3.6.0"
  }
 },
 "nbformat": 4,
 "nbformat_minor": 2
}
